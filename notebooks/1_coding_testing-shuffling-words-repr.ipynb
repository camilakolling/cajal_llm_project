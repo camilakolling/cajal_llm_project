{
 "cells": [
  {
   "cell_type": "code",
   "execution_count": 1,
   "id": "08ad22b8",
   "metadata": {},
   "outputs": [],
   "source": [
    "import h5py\n",
    "import os\n",
    "import numpy as np\n",
    "import torch\n",
    "from transformers import AutoTokenizer, AutoModel"
   ]
  },
  {
   "cell_type": "code",
   "execution_count": 2,
   "id": "ced200b8",
   "metadata": {},
   "outputs": [
    {
     "data": {
      "text/plain": [
       "'../'"
      ]
     },
     "execution_count": 2,
     "metadata": {},
     "output_type": "execute_result"
    }
   ],
   "source": [
    "code_path = \"../\"\n",
    "code_path"
   ]
  },
  {
   "cell_type": "code",
   "execution_count": 3,
   "id": "41b9676b",
   "metadata": {},
   "outputs": [
    {
     "name": "stdout",
     "output_type": "stream",
     "text": [
      "All tests passed for pearson_correlation function.\n"
     ]
    }
   ],
   "source": [
    "import sys\n",
    "sys.path.append(code_path)\n",
    "\n",
    "from encoding import *\n",
    "from preprocessing import get_ordered_representations, normalize_train_test, concat_past_features, lanczosinterp2D, delete_block_edges, shuffle_words\n",
    "from encoding import nested_blocked_cv, ridge_regression_fit_sklearn, ridge_regression_predict_torch\n",
    "from analysis import pearson_correlation"
   ]
  },
  {
   "cell_type": "code",
   "execution_count": 4,
   "id": "e2c55dea",
   "metadata": {},
   "outputs": [],
   "source": [
    "LLM_input_sequence = [np.str_('Harry'),\n",
    " np.str_('had'),\n",
    " np.str_('never'),\n",
    " np.str_('believed'),\n",
    " np.str_('he'),\n",
    "]\n",
    "\n",
    "# LLM_input_sequence = [np.str_('Harry'),\n",
    "#  np.str_('had'),\n",
    "#  np.str_('never'),\n",
    "#  np.str_('believed'),\n",
    "#  np.str_('he'),\n",
    "#  np.str_('would'),\n",
    "#  np.str_('meet'),\n",
    "#  np.str_('a'),\n",
    "#  np.str_('boy'),\n",
    "#  np.str_('he'),\n",
    "#  np.str_('hated'),\n",
    "#  np.str_('more'),\n",
    "#  np.str_('than'),\n",
    "#  np.str_('Dudley,'),\n",
    "#  np.str_('but'),\n",
    "#  np.str_('that'),\n",
    "#  np.str_('was'),\n",
    "#  np.str_('before'),\n",
    "#  np.str_('he'),\n",
    "#  np.str_('met'),\n",
    "#  np.str_('Draco'),\n",
    "#  np.str_('Malfoy.'),]"
   ]
  },
  {
   "cell_type": "code",
   "execution_count": 5,
   "id": "8e37cfa4",
   "metadata": {},
   "outputs": [
    {
     "data": {
      "text/plain": [
       "{0: np.str_('Harry'),\n",
       " 1: np.str_('had'),\n",
       " 2: np.str_('never'),\n",
       " 3: np.str_('believed'),\n",
       " 4: np.str_('he')}"
      ]
     },
     "execution_count": 5,
     "metadata": {},
     "output_type": "execute_result"
    }
   ],
   "source": [
    "dict_LLM_input_sequence = {i: word for i, word in enumerate(LLM_input_sequence)}\n",
    "dict_LLM_input_sequence"
   ]
  },
  {
   "cell_type": "code",
   "execution_count": 35,
   "id": "3a501446",
   "metadata": {},
   "outputs": [],
   "source": [
    "shuffled_sequence, inverse = shuffle_words(LLM_input_sequence, percentage=1.)"
   ]
  },
  {
   "cell_type": "code",
   "execution_count": 36,
   "id": "8bb731e3",
   "metadata": {},
   "outputs": [
    {
     "data": {
      "text/plain": [
       "[np.str_('had'),\n",
       " np.str_('believed'),\n",
       " np.str_('never'),\n",
       " np.str_('he'),\n",
       " np.str_('Harry')]"
      ]
     },
     "execution_count": 36,
     "metadata": {},
     "output_type": "execute_result"
    }
   ],
   "source": [
    "shuffled_sequence"
   ]
  },
  {
   "cell_type": "code",
   "execution_count": 37,
   "id": "e66260ea",
   "metadata": {},
   "outputs": [
    {
     "data": {
      "text/plain": [
       "{1: np.str_('had'),\n",
       " 3: np.str_('believed'),\n",
       " 2: np.str_('never'),\n",
       " 4: np.str_('he'),\n",
       " 0: np.str_('Harry')}"
      ]
     },
     "execution_count": 37,
     "metadata": {},
     "output_type": "execute_result"
    }
   ],
   "source": [
    "dict_shuffled_sequence = {i: word for i, word in zip(inverse, shuffled_sequence)}\n",
    "dict_shuffled_sequence"
   ]
  },
  {
   "cell_type": "code",
   "execution_count": 38,
   "id": "38bdb4ad",
   "metadata": {},
   "outputs": [
    {
     "data": {
      "text/plain": [
       "[1, 3, 2, 4, 0]"
      ]
     },
     "execution_count": 38,
     "metadata": {},
     "output_type": "execute_result"
    }
   ],
   "source": [
    "inverse"
   ]
  },
  {
   "cell_type": "code",
   "execution_count": 40,
   "id": "9649148c",
   "metadata": {},
   "outputs": [
    {
     "data": {
      "text/plain": [
       "{0: 1, 1: 3, 2: 2, 3: 4, 4: 0}"
      ]
     },
     "execution_count": 40,
     "metadata": {},
     "output_type": "execute_result"
    }
   ],
   "source": [
    "idx_mapping = {i: j for i, j in zip(range(len(LLM_input_sequence)), inverse)}\n",
    "idx_mapping"
   ]
  },
  {
   "cell_type": "markdown",
   "id": "a139e319",
   "metadata": {},
   "source": [
    "# Load model"
   ]
  },
  {
   "cell_type": "code",
   "execution_count": 41,
   "id": "55368c33",
   "metadata": {},
   "outputs": [],
   "source": [
    "# Set to a writable location, like /tmp or your home dir\n",
    "HF_home = \"../../cache\"  # or \"/home/youruser/.cache/huggingface\"\n",
    "os.makedirs(HF_home, exist_ok=True)"
   ]
  },
  {
   "cell_type": "code",
   "execution_count": 42,
   "id": "a3b41de5",
   "metadata": {},
   "outputs": [
    {
     "name": "stdout",
     "output_type": "stream",
     "text": [
      "Loaded model and tokenizer.\n"
     ]
    }
   ],
   "source": [
    "model_name = \"meta-llama/Llama-3.2-1B\"\n",
    "tokenizer = AutoTokenizer.from_pretrained(model_name, use_fast=True, cache_dir=HF_home)\n",
    "model = AutoModel.from_pretrained(model_name, cache_dir=HF_home).to(\"cpu\")\n",
    "print(\"Loaded model and tokenizer.\")"
   ]
  },
  {
   "cell_type": "code",
   "execution_count": 43,
   "id": "6f7ed2ce",
   "metadata": {},
   "outputs": [],
   "source": [
    "layer_idx = -7"
   ]
  },
  {
   "cell_type": "markdown",
   "id": "f1c74260",
   "metadata": {},
   "source": [
    "## Forwarding original words to the model"
   ]
  },
  {
   "cell_type": "code",
   "execution_count": 24,
   "id": "7e6ab398",
   "metadata": {},
   "outputs": [
    {
     "data": {
      "text/plain": [
       "'Harry had never believed he'"
      ]
     },
     "execution_count": 24,
     "metadata": {},
     "output_type": "execute_result"
    }
   ],
   "source": [
    "prompt_text = \" \".join(LLM_input_sequence)\n",
    "prompt_text"
   ]
  },
  {
   "cell_type": "code",
   "execution_count": 25,
   "id": "9eabd706",
   "metadata": {},
   "outputs": [
    {
     "name": "stdout",
     "output_type": "stream",
     "text": [
      "Computed word level representations for the input sequence.\n"
     ]
    }
   ],
   "source": [
    "# compute representations \n",
    "occurrences, representations = get_ordered_representations(\n",
    "    ordered_strings_to_find=strings_to_find,\n",
    "    prompt=prompt_text,\n",
    "    tokenizer=tokenizer,\n",
    "    model=model\n",
    ")\n",
    "print(\"Computed word level representations for the input sequence.\")"
   ]
  },
  {
   "cell_type": "code",
   "execution_count": 26,
   "id": "6298d503",
   "metadata": {},
   "outputs": [
    {
     "data": {
      "text/plain": [
       "torch.Size([5, 2048])"
      ]
     },
     "execution_count": 26,
     "metadata": {},
     "output_type": "execute_result"
    }
   ],
   "source": [
    "original_layer_representations = representations[layer_idx]\n",
    "original_layer_representations.shape"
   ]
  },
  {
   "cell_type": "markdown",
   "id": "acb671a3",
   "metadata": {},
   "source": [
    "## Forward shuffled words to the model"
   ]
  },
  {
   "cell_type": "code",
   "execution_count": 27,
   "id": "e0c54c35",
   "metadata": {},
   "outputs": [
    {
     "data": {
      "text/plain": [
       "'Harry had never believed he'"
      ]
     },
     "execution_count": 27,
     "metadata": {},
     "output_type": "execute_result"
    }
   ],
   "source": [
    "prompt_text = \" \".join(shuffled_sequence)\n",
    "prompt_text"
   ]
  },
  {
   "cell_type": "code",
   "execution_count": 28,
   "id": "ce59e011",
   "metadata": {},
   "outputs": [
    {
     "name": "stdout",
     "output_type": "stream",
     "text": [
      "Computed word level representations for the input sequence.\n"
     ]
    }
   ],
   "source": [
    "# compute representations \n",
    "occurrences, representations = get_ordered_representations(\n",
    "    ordered_strings_to_find=strings_to_find,\n",
    "    prompt=prompt_text,\n",
    "    tokenizer=tokenizer,\n",
    "    model=model\n",
    ")\n",
    "print(\"Computed word level representations for the input sequence.\")"
   ]
  },
  {
   "cell_type": "code",
   "execution_count": 29,
   "id": "789377c1",
   "metadata": {},
   "outputs": [
    {
     "data": {
      "text/plain": [
       "torch.Size([5, 2048])"
      ]
     },
     "execution_count": 29,
     "metadata": {},
     "output_type": "execute_result"
    }
   ],
   "source": [
    "shuffled_layer_representations = representations[layer_idx]\n",
    "shuffled_layer_representations.shape"
   ]
  },
  {
   "cell_type": "code",
   "execution_count": null,
   "id": "4dfc9d36",
   "metadata": {},
   "outputs": [],
   "source": []
  }
 ],
 "metadata": {
  "kernelspec": {
   "display_name": "cajal",
   "language": "python",
   "name": "python3"
  },
  "language_info": {
   "codemirror_mode": {
    "name": "ipython",
    "version": 3
   },
   "file_extension": ".py",
   "mimetype": "text/x-python",
   "name": "python",
   "nbconvert_exporter": "python",
   "pygments_lexer": "ipython3",
   "version": "3.10.18"
  }
 },
 "nbformat": 4,
 "nbformat_minor": 5
}
