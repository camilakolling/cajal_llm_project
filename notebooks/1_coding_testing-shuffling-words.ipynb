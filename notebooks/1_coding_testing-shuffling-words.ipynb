{
 "cells": [
  {
   "cell_type": "code",
   "execution_count": 3,
   "id": "08ad22b8",
   "metadata": {},
   "outputs": [],
   "source": [
    "import numpy as np"
   ]
  },
  {
   "cell_type": "code",
   "execution_count": 4,
   "id": "ced200b8",
   "metadata": {},
   "outputs": [
    {
     "data": {
      "text/plain": [
       "'../'"
      ]
     },
     "execution_count": 4,
     "metadata": {},
     "output_type": "execute_result"
    }
   ],
   "source": [
    "code_path = \"../\"\n",
    "code_path"
   ]
  },
  {
   "cell_type": "code",
   "execution_count": 5,
   "id": "41b9676b",
   "metadata": {},
   "outputs": [],
   "source": [
    "import sys\n",
    "sys.path.append(code_path)\n",
    "\n",
    "from encoding import *\n",
    "from preprocessing import get_ordered_representations, normalize_train_test, concat_past_features, lanczosinterp2D, delete_block_edges, shuffle_words\n",
    "from encoding import nested_blocked_cv, ridge_regression_fit_sklearn, ridge_regression_predict_torch\n",
    "from analysis import pearson_correlation"
   ]
  },
  {
   "cell_type": "code",
   "execution_count": 21,
   "id": "e2c55dea",
   "metadata": {},
   "outputs": [],
   "source": [
    "# LLM_input_sequence = [np.str_('Harry'),\n",
    "#  np.str_('had'),\n",
    "#  np.str_('never'),\n",
    "#  np.str_('believed'),\n",
    "#  np.str_('he'),\n",
    "# ]\n",
    "\n",
    "LLM_input_sequence = [np.str_('Harry'),\n",
    " np.str_('had'),\n",
    " np.str_('never'),\n",
    " np.str_('believed'),\n",
    " np.str_('he'),\n",
    " np.str_('would'),\n",
    " np.str_('meet'),\n",
    " np.str_('a'),\n",
    " np.str_('boy'),\n",
    " np.str_('he'),\n",
    " np.str_('hated'),\n",
    " np.str_('more'),\n",
    " np.str_('than'),\n",
    " np.str_('Dudley,'),\n",
    " np.str_('but'),\n",
    " np.str_('that'),\n",
    " np.str_('was'),\n",
    " np.str_('before'),\n",
    " np.str_('he'),\n",
    " np.str_('met'),\n",
    " np.str_('Draco'),\n",
    " np.str_('Malfoy.'),]"
   ]
  },
  {
   "cell_type": "code",
   "execution_count": 22,
   "id": "8e37cfa4",
   "metadata": {},
   "outputs": [
    {
     "data": {
      "text/plain": [
       "{0: np.str_('Harry'),\n",
       " 1: np.str_('had'),\n",
       " 2: np.str_('never'),\n",
       " 3: np.str_('believed'),\n",
       " 4: np.str_('he'),\n",
       " 5: np.str_('would'),\n",
       " 6: np.str_('meet'),\n",
       " 7: np.str_('a'),\n",
       " 8: np.str_('boy'),\n",
       " 9: np.str_('he'),\n",
       " 10: np.str_('hated'),\n",
       " 11: np.str_('more'),\n",
       " 12: np.str_('than'),\n",
       " 13: np.str_('Dudley,'),\n",
       " 14: np.str_('but'),\n",
       " 15: np.str_('that'),\n",
       " 16: np.str_('was'),\n",
       " 17: np.str_('before'),\n",
       " 18: np.str_('he'),\n",
       " 19: np.str_('met'),\n",
       " 20: np.str_('Draco'),\n",
       " 21: np.str_('Malfoy.')}"
      ]
     },
     "execution_count": 22,
     "metadata": {},
     "output_type": "execute_result"
    }
   ],
   "source": [
    "dict_LLM_input_sequence = {i: word for i, word in enumerate(LLM_input_sequence)}\n",
    "dict_LLM_input_sequence"
   ]
  },
  {
   "cell_type": "code",
   "execution_count": 23,
   "id": "3a501446",
   "metadata": {},
   "outputs": [],
   "source": [
    "shuffled_sequence, inverse = shuffle_words(LLM_input_sequence, percentage=.5)"
   ]
  },
  {
   "cell_type": "code",
   "execution_count": 24,
   "id": "8bb731e3",
   "metadata": {},
   "outputs": [
    {
     "data": {
      "text/plain": [
       "[np.str_('Harry'),\n",
       " np.str_('he'),\n",
       " np.str_('never'),\n",
       " np.str_('before'),\n",
       " np.str_('more'),\n",
       " np.str_('would'),\n",
       " np.str_('meet'),\n",
       " np.str_('hated'),\n",
       " np.str_('a'),\n",
       " np.str_('he'),\n",
       " np.str_('believed'),\n",
       " np.str_('Draco'),\n",
       " np.str_('than'),\n",
       " np.str_('Dudley,'),\n",
       " np.str_('had'),\n",
       " np.str_('that'),\n",
       " np.str_('was'),\n",
       " np.str_('but'),\n",
       " np.str_('he'),\n",
       " np.str_('met'),\n",
       " np.str_('boy'),\n",
       " np.str_('Malfoy.')]"
      ]
     },
     "execution_count": 24,
     "metadata": {},
     "output_type": "execute_result"
    }
   ],
   "source": [
    "shuffled_sequence"
   ]
  },
  {
   "cell_type": "code",
   "execution_count": 25,
   "id": "e66260ea",
   "metadata": {},
   "outputs": [
    {
     "data": {
      "text/plain": [
       "{0: np.str_('Harry'),\n",
       " 4: np.str_('he'),\n",
       " 2: np.str_('never'),\n",
       " 17: np.str_('before'),\n",
       " 11: np.str_('more'),\n",
       " 5: np.str_('would'),\n",
       " 6: np.str_('meet'),\n",
       " 10: np.str_('hated'),\n",
       " 7: np.str_('a'),\n",
       " 9: np.str_('he'),\n",
       " 3: np.str_('believed'),\n",
       " 20: np.str_('Draco'),\n",
       " 12: np.str_('than'),\n",
       " 13: np.str_('Dudley,'),\n",
       " 1: np.str_('had'),\n",
       " 15: np.str_('that'),\n",
       " 16: np.str_('was'),\n",
       " 14: np.str_('but'),\n",
       " 18: np.str_('he'),\n",
       " 19: np.str_('met'),\n",
       " 8: np.str_('boy'),\n",
       " 21: np.str_('Malfoy.')}"
      ]
     },
     "execution_count": 25,
     "metadata": {},
     "output_type": "execute_result"
    }
   ],
   "source": [
    "dict_shuffled_sequence = {i: word for i, word in zip(inverse, shuffled_sequence)}\n",
    "dict_shuffled_sequence"
   ]
  },
  {
   "cell_type": "code",
   "execution_count": null,
   "id": "55368c33",
   "metadata": {},
   "outputs": [],
   "source": []
  }
 ],
 "metadata": {
  "kernelspec": {
   "display_name": "cajal",
   "language": "python",
   "name": "python3"
  },
  "language_info": {
   "codemirror_mode": {
    "name": "ipython",
    "version": 3
   },
   "file_extension": ".py",
   "mimetype": "text/x-python",
   "name": "python",
   "nbconvert_exporter": "python",
   "pygments_lexer": "ipython3",
   "version": "3.10.18"
  }
 },
 "nbformat": 4,
 "nbformat_minor": 5
}
