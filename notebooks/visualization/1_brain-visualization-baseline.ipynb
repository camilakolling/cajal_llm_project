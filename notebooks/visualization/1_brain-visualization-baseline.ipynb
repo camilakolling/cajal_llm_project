{
 "cells": [
  {
   "cell_type": "code",
   "execution_count": 15,
   "id": "91f406b6-c855-4268-8ab0-a5948c35514d",
   "metadata": {},
   "outputs": [],
   "source": [
    "import os\n",
    "import h5py\n",
    "import cortex\n",
    "import copy\n",
    "import numpy as np\n",
    "import matplotlib.pyplot as plt"
   ]
  },
  {
   "cell_type": "markdown",
   "id": "103e9fc3",
   "metadata": {},
   "source": [
    "## Setup results path"
   ]
  },
  {
   "cell_type": "code",
   "execution_count": 16,
   "id": "ea1ee875",
   "metadata": {},
   "outputs": [
    {
     "data": {
      "text/plain": [
       "'/Users/mosorio/Documents/CAJAL-NeuroAI/Project/cajal_llm_project/results/original_code'"
      ]
     },
     "execution_count": 16,
     "metadata": {},
     "output_type": "execute_result"
    }
   ],
   "source": [
    "base_path = \"/Users/mosorio/Documents/CAJAL-NeuroAI/Project/cajal_llm_project/results/\"\n",
    "experiment_baseline_name = \"original_code\"\n",
    "results_path = os.path.join(base_path, experiment_baseline_name)\n",
    "results_path"
   ]
  },
  {
   "cell_type": "code",
   "execution_count": 17,
   "id": "88b03a5a-dc98-48e8-a437-64a05b5a9d27",
   "metadata": {},
   "outputs": [
    {
     "data": {
      "text/plain": [
       "'/Users/mosorio/miniforge3/envs/llms/share/pycortex/db'"
      ]
     },
     "execution_count": 17,
     "metadata": {},
     "output_type": "execute_result"
    }
   ],
   "source": [
    "cortex.database.default_filestore"
   ]
  },
  {
   "cell_type": "markdown",
   "id": "b320671c",
   "metadata": {},
   "source": [
    "## Setup fMRI data from individual"
   ]
  },
  {
   "cell_type": "code",
   "execution_count": 18,
   "id": "4234202d-f9e8-4e84-975b-bd7b66920aca",
   "metadata": {},
   "outputs": [],
   "source": [
    "surfaces = dict(\n",
    "# F = 'fMRI_story_F',\n",
    "# G = 'fMRI_story_G',\n",
    "# H = 'fMRI_story_H',\n",
    "I = 'fMRI_story_I',\n",
    "# J = 'fMRI_story_J',\n",
    "# K = 'fMRI_story_K',\n",
    "# L = 'fMRI_story_L',\n",
    "# M = 'fMRI_story_M',\n",
    "# N = 'fMRI_story_N'\n",
    ")\n",
    "\n",
    "transforms = dict(\n",
    "# F = 'F_ars',\n",
    "# G = 'G_ars',\n",
    "# H = 'H_ars',\n",
    "I = 'I_ars',\n",
    "# J = 'J_ars',\n",
    "# K = 'K_ars',\n",
    "# L = 'L_ars',\n",
    "# M = 'M_ars',\n",
    "# N = 'N_ars'\n",
    ")\n",
    "\n",
    "new_transforms = dict(\n",
    "# F = 'F_ars_auto2',\n",
    "# G = 'G_ars_auto2',\n",
    "# H = 'H_ars_auto2',\n",
    "I = 'I_ars_auto2',\n",
    "# J = 'J_ars_auto2',\n",
    "# K = 'K_ars_auto2',\n",
    "# L = 'L_ars_auto2',\n",
    "# M = 'M_ars_auto2',\n",
    "# N = 'N_ars_auto2'\n",
    ")\n",
    "\n",
    "sub = 'I'"
   ]
  },
  {
   "cell_type": "code",
   "execution_count": 19,
   "id": "d5d46a02-dd44-43d8-a5d8-294f54928076",
   "metadata": {},
   "outputs": [
    {
     "name": "stdout",
     "output_type": "stream",
     "text": [
      "num voxels in transform for I: 25281\n"
     ]
    }
   ],
   "source": [
    "# check whether these transforms work for the PLoS data\n",
    "mask = cortex.db.get_mask(surfaces[sub], transforms[sub], 'thin')\n",
    "print('num voxels in transform for I: {}'.format(np.sum(mask)))"
   ]
  },
  {
   "cell_type": "code",
   "execution_count": 20,
   "id": "6a32d135-a45b-453d-ada0-65bb62573c93",
   "metadata": {},
   "outputs": [
    {
     "name": "stdout",
     "output_type": "stream",
     "text": [
      "num voxels in new_transform for I: 25263\n"
     ]
    }
   ],
   "source": [
    "mask = cortex.db.get_mask(surfaces[sub], new_transforms[sub], 'thin')\n",
    "print('num voxels in new_transform for I: {}'.format(np.sum(mask)))"
   ]
  },
  {
   "cell_type": "code",
   "execution_count": 21,
   "id": "c87092c3",
   "metadata": {},
   "outputs": [
    {
     "name": "stdout",
     "output_type": "stream",
     "text": [
      "Model name: Llama-3.2-1B-Full-Chapter\n",
      "Groups available: ['layer -7']\n",
      "Predictions shape: (300, 25263)\n"
     ]
    }
   ],
   "source": [
    "# Open in read mode\n",
    "with h5py.File(os.path.join(results_path, \"results_encoding_model.h5\"), 'r') as f:\n",
    "    # Read metadata\n",
    "    model_name = f.attrs['model_name']\n",
    "    print(\"Model name:\", model_name)\n",
    "\n",
    "    # List all groups\n",
    "    print(\"Groups available:\", list(f.keys()))\n",
    "\n",
    "    # Choose your group\n",
    "    representation_name = list(f.keys())[0]  # or set explicitly\n",
    "    group = f[representation_name]\n",
    "\n",
    "    # Read datasets\n",
    "    predictions = group['predictions'][:]\n",
    "    ground_truth = group['ground_truth'][:]\n",
    "    correlations = group['correlations'][:]\n",
    "    p_values = group['p_values'][:]\n",
    "    coefficients = group['coefficients'][:]\n",
    "    alphas = group['alphas'][:]\n",
    "\n",
    "    print(\"Predictions shape:\", predictions.shape)"
   ]
  },
  {
   "cell_type": "code",
   "execution_count": 22,
   "id": "6444e6e9",
   "metadata": {},
   "outputs": [
    {
     "data": {
      "text/plain": [
       "np.float32(0.12602845)"
      ]
     },
     "execution_count": 22,
     "metadata": {},
     "output_type": "execute_result"
    }
   ],
   "source": [
    "correlations.mean()"
   ]
  },
  {
   "cell_type": "code",
   "execution_count": 23,
   "id": "76ec9372",
   "metadata": {},
   "outputs": [
    {
     "data": {
      "text/plain": [
       "np.int64(6243)"
      ]
     },
     "execution_count": 23,
     "metadata": {},
     "output_type": "execute_result"
    }
   ],
   "source": [
    "np.sum(correlations > 0.2)"
   ]
  },
  {
   "cell_type": "code",
   "execution_count": 24,
   "id": "51451e0c",
   "metadata": {},
   "outputs": [
    {
     "data": {
      "text/plain": [
       "(25263,)"
      ]
     },
     "execution_count": 24,
     "metadata": {},
     "output_type": "execute_result"
    }
   ],
   "source": [
    "# significant_voxels = np.where(p_values < 0.05, voxel_values_to_plot, 0.)\n",
    "significant_voxels_baseline = copy.deepcopy(correlations)\n",
    "significant_voxels_baseline[p_values > 0.01] = 0\n",
    "significant_voxels_baseline.shape"
   ]
  },
  {
   "cell_type": "markdown",
   "id": "c113ce23",
   "metadata": {},
   "source": [
    "## Plot significant values"
   ]
  },
  {
   "cell_type": "code",
   "execution_count": 25,
   "id": "3cf940e5",
   "metadata": {},
   "outputs": [],
   "source": [
    "max_baseline=float(significant_voxels_baseline.max())"
   ]
  },
  {
   "cell_type": "code",
   "execution_count": 26,
   "id": "55023346",
   "metadata": {},
   "outputs": [
    {
     "name": "stdout",
     "output_type": "stream",
     "text": [
      "Started server on port 42468\n",
      "Stopping server\n"
     ]
    },
    {
     "data": {
      "text/plain": [
       "<JS: window.viewer>"
      ]
     },
     "execution_count": 26,
     "metadata": {},
     "output_type": "execute_result"
    }
   ],
   "source": [
    "vol = cortex.Volume(significant_voxels_baseline, surfaces[sub], new_transforms[sub], vmin=0, vmax=max_baseline, cmap='viridis')\n",
    "cortex.webshow(vol)"
   ]
  }
 ],
 "metadata": {
  "kernelspec": {
   "display_name": "Python 3.10.18 ('llms-new')",
   "language": "python",
   "name": "python3"
  },
  "language_info": {
   "codemirror_mode": {
    "name": "ipython",
    "version": 3
   },
   "file_extension": ".py",
   "mimetype": "text/x-python",
   "name": "python",
   "nbconvert_exporter": "python",
   "pygments_lexer": "ipython3",
   "version": "3.10.18"
  },
  "vscode": {
   "interpreter": {
    "hash": "ab13d0ea8f14b16e9a566b40703c4dc132782ed4978c7f99dffab3420f7db27f"
   }
  }
 },
 "nbformat": 4,
 "nbformat_minor": 5
}
