{
 "cells": [
  {
   "cell_type": "code",
   "execution_count": 189,
   "id": "91f406b6-c855-4268-8ab0-a5948c35514d",
   "metadata": {},
   "outputs": [],
   "source": [
    "import os\n",
    "import h5py\n",
    "import cortex\n",
    "import copy\n",
    "import numpy as np\n",
    "import matplotlib.pyplot as plt"
   ]
  },
  {
   "cell_type": "markdown",
   "id": "103e9fc3",
   "metadata": {},
   "source": [
    "## Setup results path"
   ]
  },
  {
   "cell_type": "code",
   "execution_count": 190,
   "id": "ea1ee875",
   "metadata": {},
   "outputs": [],
   "source": [
    "base_path = \"/Users/mosorio/Documents/CAJAL-NeuroAI/Project/cajal_llm_project/results/\"\n",
    "experiment_name = \"shuffled_words/percentage1.0\"\n",
    "experiment_baseline_name = \"original_code\"\n",
    "results_path = os.path.join(base_path, experiment_name)\n",
    "results_path\n",
    "results_baseline_path = os.path.join(base_path, experiment_baseline_name)\n",
    "#results_baseline_path"
   ]
  },
  {
   "cell_type": "code",
   "execution_count": 191,
   "id": "88b03a5a-dc98-48e8-a437-64a05b5a9d27",
   "metadata": {},
   "outputs": [
    {
     "data": {
      "text/plain": [
       "'/Users/mosorio/miniforge3/envs/llms/share/pycortex/db'"
      ]
     },
     "execution_count": 191,
     "metadata": {},
     "output_type": "execute_result"
    }
   ],
   "source": [
    "cortex.database.default_filestore"
   ]
  },
  {
   "cell_type": "markdown",
   "id": "b320671c",
   "metadata": {},
   "source": [
    "## Setup fMRI data from individual"
   ]
  },
  {
   "cell_type": "code",
   "execution_count": 192,
   "id": "4234202d-f9e8-4e84-975b-bd7b66920aca",
   "metadata": {},
   "outputs": [],
   "source": [
    "surfaces = dict(\n",
    "# F = 'fMRI_story_F',\n",
    "# G = 'fMRI_story_G',\n",
    "# H = 'fMRI_story_H',\n",
    "I = 'fMRI_story_I',\n",
    "# J = 'fMRI_story_J',\n",
    "# K = 'fMRI_story_K',\n",
    "# L = 'fMRI_story_L',\n",
    "# M = 'fMRI_story_M',\n",
    "# N = 'fMRI_story_N'\n",
    ")\n",
    "\n",
    "transforms = dict(\n",
    "# F = 'F_ars',\n",
    "# G = 'G_ars',\n",
    "# H = 'H_ars',\n",
    "I = 'I_ars',\n",
    "# J = 'J_ars',\n",
    "# K = 'K_ars',\n",
    "# L = 'L_ars',\n",
    "# M = 'M_ars',\n",
    "# N = 'N_ars'\n",
    ")\n",
    "\n",
    "new_transforms = dict(\n",
    "# F = 'F_ars_auto2',\n",
    "# G = 'G_ars_auto2',\n",
    "# H = 'H_ars_auto2',\n",
    "I = 'I_ars_auto2',\n",
    "# J = 'J_ars_auto2',\n",
    "# K = 'K_ars_auto2',\n",
    "# L = 'L_ars_auto2',\n",
    "# M = 'M_ars_auto2',\n",
    "# N = 'N_ars_auto2'\n",
    ")\n",
    "\n",
    "sub = 'I'"
   ]
  },
  {
   "cell_type": "code",
   "execution_count": 193,
   "id": "d5d46a02-dd44-43d8-a5d8-294f54928076",
   "metadata": {},
   "outputs": [
    {
     "name": "stdout",
     "output_type": "stream",
     "text": [
      "num voxels in transform for I: 25281\n"
     ]
    }
   ],
   "source": [
    "# check whether these transforms work for the PLoS data\n",
    "mask = cortex.db.get_mask(surfaces[sub], transforms[sub], 'thin')\n",
    "print('num voxels in transform for I: {}'.format(np.sum(mask)))"
   ]
  },
  {
   "cell_type": "code",
   "execution_count": 194,
   "id": "6a32d135-a45b-453d-ada0-65bb62573c93",
   "metadata": {},
   "outputs": [
    {
     "name": "stdout",
     "output_type": "stream",
     "text": [
      "num voxels in new_transform for I: 25263\n"
     ]
    }
   ],
   "source": [
    "mask = cortex.db.get_mask(surfaces[sub], new_transforms[sub], 'thin')\n",
    "print('num voxels in new_transform for I: {}'.format(np.sum(mask)))"
   ]
  },
  {
   "cell_type": "code",
   "execution_count": 195,
   "id": "c87092c3",
   "metadata": {},
   "outputs": [
    {
     "name": "stdout",
     "output_type": "stream",
     "text": [
      "Model name: Llama-3.2-1B-Full-Chapter\n",
      "Groups available: ['layer -7']\n",
      "Predictions shape: (300, 25263)\n"
     ]
    }
   ],
   "source": [
    "# Open in read mode\n",
    "with h5py.File(os.path.join(results_path, \"results_encoding_model.h5\"), 'r') as f:\n",
    "    # Read metadata\n",
    "    model_name = f.attrs['model_name']\n",
    "    print(\"Model name:\", model_name)\n",
    "\n",
    "    # List all groups\n",
    "    print(\"Groups available:\", list(f.keys()))\n",
    "\n",
    "    # Choose your group\n",
    "    representation_name = list(f.keys())[0]  # or set explicitly\n",
    "    group = f[representation_name]\n",
    "\n",
    "    # Read datasets\n",
    "    predictions = group['predictions'][:]\n",
    "    ground_truth = group['ground_truth'][:]\n",
    "    correlations = group['correlations'][:]\n",
    "    p_values = group['p_values'][:]\n",
    "    coefficients = group['coefficients'][:]\n",
    "    alphas = group['alphas'][:]\n",
    "\n",
    "    print(\"Predictions shape:\", predictions.shape)"
   ]
  },
  {
   "cell_type": "code",
   "execution_count": 196,
   "id": "2fe31b18",
   "metadata": {},
   "outputs": [
    {
     "name": "stdout",
     "output_type": "stream",
     "text": [
      "Model name: Llama-3.2-1B-Full-Chapter\n",
      "Groups available: ['layer -7']\n",
      "Predictions shape: (300, 25263)\n"
     ]
    }
   ],
   "source": [
    "# Open in read mode\n",
    "with h5py.File(os.path.join(results_baseline_path, \"results_encoding_model.h5\"), 'r') as f:\n",
    "    # Read metadata\n",
    "    model_name_baseline = f.attrs['model_name']\n",
    "    print(\"Model name:\", model_name_baseline)\n",
    "\n",
    "    # List all groups\n",
    "    print(\"Groups available:\", list(f.keys()))\n",
    "\n",
    "    # Choose your group\n",
    "    representation_name_baseline = list(f.keys())[0]  # or set explicitly\n",
    "    group = f[representation_name_baseline]\n",
    "\n",
    "    # Read datasets\n",
    "    predictions_baseline = group['predictions'][:]\n",
    "    ground_truth_baseline = group['ground_truth'][:]\n",
    "    correlations_baseline = group['correlations'][:]\n",
    "    p_values_baseline = group['p_values'][:]\n",
    "    coefficients_baseline = group['coefficients'][:]\n",
    "    alphas_baseline = group['alphas'][:]\n",
    "\n",
    "    print(\"Predictions shape:\", predictions_baseline.shape)"
   ]
  },
  {
   "cell_type": "code",
   "execution_count": 197,
   "id": "2052d915",
   "metadata": {},
   "outputs": [],
   "source": [
    "dif_corr = correlations_baseline - correlations"
   ]
  },
  {
   "cell_type": "code",
   "execution_count": 198,
   "id": "59927679",
   "metadata": {},
   "outputs": [
    {
     "data": {
      "text/plain": [
       "array([ 0.0365065 ,  0.01593767, -0.03802222, ..., -0.06723929,\n",
       "       -0.0146652 ,  0.041631  ], shape=(25263,), dtype=float32)"
      ]
     },
     "execution_count": 198,
     "metadata": {},
     "output_type": "execute_result"
    }
   ],
   "source": [
    "correlations_baseline"
   ]
  },
  {
   "cell_type": "code",
   "execution_count": 199,
   "id": "6444e6e9",
   "metadata": {},
   "outputs": [
    {
     "data": {
      "text/plain": [
       "array([ 0.10836191,  0.07864682,  0.09338371, ..., -0.13676135,\n",
       "       -0.18308775, -0.11579523], shape=(25263,), dtype=float32)"
      ]
     },
     "execution_count": 199,
     "metadata": {},
     "output_type": "execute_result"
    }
   ],
   "source": [
    "correlations"
   ]
  },
  {
   "cell_type": "code",
   "execution_count": 200,
   "id": "8c9aaaa2",
   "metadata": {},
   "outputs": [
    {
     "name": "stdout",
     "output_type": "stream",
     "text": [
      "0.6531676\n"
     ]
    }
   ],
   "source": [
    "print(max(dif_corr))"
   ]
  },
  {
   "cell_type": "code",
   "execution_count": 201,
   "id": "51451e0c",
   "metadata": {},
   "outputs": [
    {
     "data": {
      "text/plain": [
       "(25263,)"
      ]
     },
     "execution_count": 201,
     "metadata": {},
     "output_type": "execute_result"
    }
   ],
   "source": [
    "# significant_voxels = np.where(p_values < 0.05, voxel_values_to_plot, 0.)\n",
    "significant_voxels_baseline = copy.deepcopy(correlations_baseline)\n",
    "significant_voxels_baseline[p_values > 0.05] = 0\n",
    "significant_voxels_baseline.shape"
   ]
  },
  {
   "cell_type": "code",
   "execution_count": 202,
   "id": "a1606fd9",
   "metadata": {},
   "outputs": [
    {
     "data": {
      "text/plain": [
       "(25263,)"
      ]
     },
     "execution_count": 202,
     "metadata": {},
     "output_type": "execute_result"
    }
   ],
   "source": [
    "# significant_voxels = np.where(p_values < 0.05, voxel_values_to_plot, 0.)\n",
    "significant_voxels = copy.deepcopy(correlations)\n",
    "significant_voxels[p_values > 0.05] = 0\n",
    "significant_voxels.shape"
   ]
  },
  {
   "cell_type": "markdown",
   "id": "7cd514b2",
   "metadata": {},
   "source": [
    "## Plot all values"
   ]
  },
  {
   "cell_type": "code",
   "execution_count": 203,
   "id": "3995e719-db94-40f0-9cd2-7611998e57a4",
   "metadata": {},
   "outputs": [],
   "source": [
    "# vol = cortex.Volume(correlations, surfaces[sub], new_transforms[sub], vmin=0, vmax=0.6, cmap='viridis')\n",
    "# cortex.webshow(vol)"
   ]
  },
  {
   "cell_type": "markdown",
   "id": "c113ce23",
   "metadata": {},
   "source": [
    "## Plot significant values"
   ]
  },
  {
   "cell_type": "code",
   "execution_count": 204,
   "id": "cdfcf43e",
   "metadata": {},
   "outputs": [
    {
     "name": "stdout",
     "output_type": "stream",
     "text": [
      "Started server on port 60999\n",
      "Stopping server\n"
     ]
    },
    {
     "data": {
      "text/plain": [
       "<JS: window.viewer>"
      ]
     },
     "execution_count": 204,
     "metadata": {},
     "output_type": "execute_result"
    }
   ],
   "source": [
    "vol = cortex.Volume(significant_voxels, surfaces[sub], new_transforms[sub], vmin=0, vmax=0.4, cmap='viridis')\n",
    "cortex.webshow(vol)"
   ]
  },
  {
   "cell_type": "code",
   "execution_count": 205,
   "id": "461d2ca1",
   "metadata": {},
   "outputs": [
    {
     "data": {
      "text/plain": [
       "'fMRI_story_I'"
      ]
     },
     "execution_count": 205,
     "metadata": {},
     "output_type": "execute_result"
    }
   ],
   "source": [
    "surfaces[sub]"
   ]
  },
  {
   "cell_type": "code",
   "execution_count": 206,
   "id": "b5f2140f",
   "metadata": {},
   "outputs": [],
   "source": [
    "# Create masks\n",
    "mask_baseline = (significant_voxels_baseline != 0)\n",
    "mask_current   = (significant_voxels != 0)\n",
    "intersection   = mask_baseline & mask_current\n",
    "only_baseline  = mask_baseline & ~mask_current\n",
    "only_current   = mask_current & ~mask_baseline"
   ]
  },
  {
   "cell_type": "code",
   "execution_count": 207,
   "id": "853218ac",
   "metadata": {},
   "outputs": [
    {
     "data": {
      "text/plain": [
       "np.False_"
      ]
     },
     "execution_count": 207,
     "metadata": {},
     "output_type": "execute_result"
    }
   ],
   "source": [
    "np.any(only_current==True)"
   ]
  },
  {
   "cell_type": "code",
   "execution_count": 208,
   "id": "705a2e11",
   "metadata": {},
   "outputs": [
    {
     "data": {
      "text/plain": [
       "array([False, False, False, ..., False, False, False], shape=(25263,))"
      ]
     },
     "execution_count": 208,
     "metadata": {},
     "output_type": "execute_result"
    }
   ],
   "source": [
    "only_baseline"
   ]
  },
  {
   "cell_type": "code",
   "execution_count": 209,
   "id": "71eae4e2",
   "metadata": {},
   "outputs": [
    {
     "data": {
      "text/plain": [
       "'I'"
      ]
     },
     "execution_count": 209,
     "metadata": {},
     "output_type": "execute_result"
    }
   ],
   "source": [
    "sub"
   ]
  },
  {
   "cell_type": "code",
   "execution_count": 213,
   "id": "938c9ce1",
   "metadata": {},
   "outputs": [],
   "source": [
    "import numpy as np\n",
    "import cortex\n",
    "import matplotlib.pyplot as plt\n",
    "from matplotlib.colors import ListedColormap\n",
    "\n",
    "# Generate labeled volume\n",
    "label_volume = np.zeros(significant_voxels.shape, dtype=np.int32)\n",
    "\n",
    "only_current   = (significant_voxels != 0) & (significant_voxels_baseline == 0)\n",
    "only_baseline  = (significant_voxels_baseline != 0) & (significant_voxels == 0)\n",
    "intersection   = (significant_voxels != 0) & (significant_voxels_baseline != 0)\n",
    "\n",
    "label_volume[only_current]   = 1\n",
    "label_volume[only_baseline]  = 2\n",
    "label_volume[intersection]   = 3"
   ]
  },
  {
   "cell_type": "code",
   "execution_count": 214,
   "id": "2b29d8be",
   "metadata": {},
   "outputs": [
    {
     "data": {
      "text/plain": [
       "array([0, 3], dtype=int32)"
      ]
     },
     "execution_count": 214,
     "metadata": {},
     "output_type": "execute_result"
    }
   ],
   "source": [
    "np.unique(label_volume)"
   ]
  },
  {
   "cell_type": "code",
   "execution_count": 212,
   "id": "08ea5750",
   "metadata": {},
   "outputs": [
    {
     "name": "stdout",
     "output_type": "stream",
     "text": [
      "Started server on port 52268\n",
      "Stopping server\n"
     ]
    },
    {
     "data": {
      "text/plain": [
       "<JS: window.viewer>"
      ]
     },
     "execution_count": 212,
     "metadata": {},
     "output_type": "execute_result"
    }
   ],
   "source": [
    "# Create cortex.Volume\n",
    "vol = cortex.Volume(\n",
    "    data=label_volume,\n",
    "    subject=surfaces[sub],                     \n",
    "    xfmname=new_transforms[sub],              \n",
    "    vmin=0,\n",
    "    vmax=1,\n",
    "    cmap='Set1'\n",
    ")\n",
    "\n",
    "# Show in browser\n",
    "cortex.webshow(vol)\n"
   ]
  },
  {
   "cell_type": "code",
   "execution_count": 57,
   "id": "51c37ef1",
   "metadata": {},
   "outputs": [
    {
     "name": "stdout",
     "output_type": "stream",
     "text": [
      "58.97% of voxels have positive correlation\n",
      "0.18% of voxels have corr > 0.2\n"
     ]
    }
   ],
   "source": [
    "n_total = len(correlations)\n",
    "n_positive = np.sum(correlations > 0)\n",
    "n_high = np.sum(correlations > 0.2)\n",
    "\n",
    "print(f\"{n_positive/n_total:.2%} of voxels have positive correlation\")\n",
    "print(f\"{n_high/n_total:.2%} of voxels have corr > 0.2\")\n"
   ]
  },
  {
   "cell_type": "code",
   "execution_count": 58,
   "id": "3e51e16e",
   "metadata": {},
   "outputs": [
    {
     "name": "stdout",
     "output_type": "stream",
     "text": [
      "87.63% of voxels have positive correlation\n",
      "24.71% of voxels have corr > 0.2\n"
     ]
    }
   ],
   "source": [
    "n_total_baseline = len(correlations_baseline)\n",
    "n_positive_baseline = np.sum(correlations_baseline > 0)\n",
    "n_high_baseline = np.sum(correlations_baseline > 0.2)\n",
    "\n",
    "print(f\"{n_positive_baseline/n_total_baseline:.2%} of voxels have positive correlation\")\n",
    "print(f\"{n_high_baseline/n_total_baseline:.2%} of voxels have corr > 0.2\")"
   ]
  }
 ],
 "metadata": {
  "kernelspec": {
   "display_name": "Python 3.10.18 ('llms-new')",
   "language": "python",
   "name": "python3"
  },
  "language_info": {
   "codemirror_mode": {
    "name": "ipython",
    "version": 3
   },
   "file_extension": ".py",
   "mimetype": "text/x-python",
   "name": "python",
   "nbconvert_exporter": "python",
   "pygments_lexer": "ipython3",
   "version": "3.10.18"
  },
  "vscode": {
   "interpreter": {
    "hash": "ab13d0ea8f14b16e9a566b40703c4dc132782ed4978c7f99dffab3420f7db27f"
   }
  }
 },
 "nbformat": 4,
 "nbformat_minor": 5
}
