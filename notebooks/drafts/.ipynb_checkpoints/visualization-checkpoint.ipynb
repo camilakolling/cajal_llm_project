{
 "cells": [
  {
   "cell_type": "code",
   "execution_count": 2,
   "id": "b9be09e5",
   "metadata": {},
   "outputs": [],
   "source": [
    "# import cortex\n",
    "# import numpy as np\n",
    "# np.random.seed(1234)\n",
    "# import matplotlib.pyplot as plt\n",
    "\n",
    "# subject = 'S1'\n",
    "# xfm = 'fullhead'\n",
    "\n",
    "# # Creating a random dataset that is the shape for this transform with one\n",
    "# # entry for each voxel\n",
    "# test_data = np.random.randn(31, 100, 100)\n",
    "\n",
    "# # This creates a Volume object for our test dataset for the given subject\n",
    "# # and transform\n",
    "# vol_data = cortex.Volume(test_data, subject, xfm)\n",
    "# cortex.quickshow(vol_data)\n",
    "# plt.show()\n",
    "\n",
    "# # Can also alter the minimum and maximum values shown on the colorbar\n",
    "# vol_data_thresh = cortex.Volume(test_data, subject, xfm, vmin=-1, vmax=1)\n",
    "# cortex.quickshow(vol_data_thresh)\n",
    "# plt.show()\n",
    "\n",
    "# # If you have NaN values, those voxels show up transparent on the brain\n",
    "# test_data[10:15, :, :] = np.nan\n",
    "# vol_data_nan = cortex.Volume(test_data, subject, xfm)\n",
    "# cortex.quickshow(vol_data_nan)\n",
    "# plt.show()"
   ]
  },
  {
   "cell_type": "markdown",
   "id": "e0389a90",
   "metadata": {},
   "source": [
    "# for us"
   ]
  },
  {
   "cell_type": "code",
   "execution_count": 5,
   "id": "9458276b",
   "metadata": {},
   "outputs": [],
   "source": [
    "import cortex\n",
    "import numpy as np\n",
    "import matplotlib.pyplot as plt"
   ]
  },
  {
   "cell_type": "code",
   "execution_count": 7,
   "id": "642db53c",
   "metadata": {},
   "outputs": [
    {
     "data": {
      "text/plain": [
       "'/BRAIN/ckolling-phd/work/miniconda3/share/pycortex/db'"
      ]
     },
     "execution_count": 7,
     "metadata": {},
     "output_type": "execute_result"
    }
   ],
   "source": [
    "cortex.database.default_filestore"
   ]
  },
  {
   "cell_type": "code",
   "execution_count": 23,
   "id": "d31118fb",
   "metadata": {},
   "outputs": [],
   "source": [
    "surfaces = dict(\n",
    "# F = 'fMRI_story_F',\n",
    "# G = 'fMRI_story_G',\n",
    "# H = 'fMRI_story_H',\n",
    "I = '/BRAIN/neuroai_project/work/cajal_llm_project/data/fMRI_story_I',\n",
    "# J = 'fMRI_story_J',\n",
    "# K = 'fMRI_story_K',\n",
    "# L = 'fMRI_story_L',\n",
    "# M = 'fMRI_story_M',\n",
    "# N = 'fMRI_story_N'\n",
    ")\n",
    "\n",
    "transforms = dict(\n",
    "# F = 'F_ars',\n",
    "# G = 'G_ars',\n",
    "# H = 'H_ars',\n",
    "I = 'I_ars',\n",
    "# J = 'J_ars',\n",
    "# K = 'K_ars',\n",
    "# L = 'L_ars',\n",
    "# M = 'M_ars',\n",
    "# N = 'N_ars'\n",
    ")\n",
    "\n",
    "new_transforms = dict(\n",
    "# F = 'F_ars_auto2',\n",
    "# G = 'G_ars_auto2',\n",
    "# H = 'H_ars_auto2',\n",
    "I = 'I_ars_auto2',\n",
    "# J = 'J_ars_auto2',\n",
    "# K = 'K_ars_auto2',\n",
    "# L = 'L_ars_auto2',\n",
    "# M = 'M_ars_auto2',\n",
    "# N = 'N_ars_auto2'\n",
    ")\n",
    "\n",
    "sub = 'I'"
   ]
  },
  {
   "cell_type": "code",
   "execution_count": 25,
   "id": "2aabea7d",
   "metadata": {},
   "outputs": [
    {
     "data": {
      "text/plain": [
       "'/BRAIN/neuroai_project/work/cajal_llm_project/data/fMRI_story_I'"
      ]
     },
     "execution_count": 25,
     "metadata": {},
     "output_type": "execute_result"
    }
   ],
   "source": [
    "surfaces[sub]"
   ]
  },
  {
   "cell_type": "code",
   "execution_count": 26,
   "id": "7b0bca64",
   "metadata": {},
   "outputs": [
    {
     "data": {
      "text/plain": [
       "'I_ars'"
      ]
     },
     "execution_count": 26,
     "metadata": {},
     "output_type": "execute_result"
    }
   ],
   "source": [
    " transforms[sub]"
   ]
  },
  {
   "cell_type": "code",
   "execution_count": 24,
   "id": "14112c85",
   "metadata": {},
   "outputs": [
    {
     "ename": "KeyError",
     "evalue": "'/BRAIN/neuroai_project/work/cajal_llm_project/data/fMRI_story_I'",
     "output_type": "error",
     "traceback": [
      "\u001b[31m---------------------------------------------------------------------------\u001b[39m",
      "\u001b[31mKeyError\u001b[39m                                  Traceback (most recent call last)",
      "\u001b[36mCell\u001b[39m\u001b[36m \u001b[39m\u001b[32mIn[24]\u001b[39m\u001b[32m, line 2\u001b[39m\n\u001b[32m      1\u001b[39m \u001b[38;5;66;03m# check whether these transforms work for the PLoS data\u001b[39;00m\n\u001b[32m----> \u001b[39m\u001b[32m2\u001b[39m mask = \u001b[43mcortex\u001b[49m\u001b[43m.\u001b[49m\u001b[43mdb\u001b[49m\u001b[43m.\u001b[49m\u001b[43mget_mask\u001b[49m\u001b[43m(\u001b[49m\u001b[43msurfaces\u001b[49m\u001b[43m[\u001b[49m\u001b[43msub\u001b[49m\u001b[43m]\u001b[49m\u001b[43m,\u001b[49m\u001b[43m \u001b[49m\u001b[43mtransforms\u001b[49m\u001b[43m[\u001b[49m\u001b[43msub\u001b[49m\u001b[43m]\u001b[49m\u001b[43m,\u001b[49m\u001b[43m \u001b[49m\u001b[33;43m'\u001b[39;49m\u001b[33;43mthin\u001b[39;49m\u001b[33;43m'\u001b[39;49m\u001b[43m)\u001b[49m\n\u001b[32m      3\u001b[39m \u001b[38;5;28mprint\u001b[39m(\u001b[33m'\u001b[39m\u001b[33mnum voxels in transform for I: \u001b[39m\u001b[38;5;132;01m{}\u001b[39;00m\u001b[33m'\u001b[39m.format(np.sum(mask)))\n",
      "\u001b[36mFile \u001b[39m\u001b[32m/BRAIN/ckolling-phd/work/miniconda3/lib/python3.12/site-packages/cortex/database.py:553\u001b[39m, in \u001b[36mDatabase.get_mask\u001b[39m\u001b[34m(self, subject, xfmname, type)\u001b[39m\n\u001b[32m    550\u001b[39m \u001b[38;5;28;01mexcept\u001b[39;00m (\u001b[38;5;167;01mAttributeError\u001b[39;00m, \u001b[38;5;167;01mIOError\u001b[39;00m):\n\u001b[32m    551\u001b[39m     \u001b[38;5;28;01mpass\u001b[39;00m\n\u001b[32m--> \u001b[39m\u001b[32m553\u001b[39m fname = \u001b[38;5;28;43mself\u001b[39;49m\u001b[43m.\u001b[49m\u001b[43mget_paths\u001b[49m\u001b[43m(\u001b[49m\u001b[43msubject\u001b[49m\u001b[43m)\u001b[49m[\u001b[33m'\u001b[39m\u001b[33mmasks\u001b[39m\u001b[33m'\u001b[39m].format(xfmname=xfmname, \u001b[38;5;28mtype\u001b[39m=\u001b[38;5;28mtype\u001b[39m)\n\u001b[32m    554\u001b[39m \u001b[38;5;28;01mtry\u001b[39;00m:\n\u001b[32m    555\u001b[39m     \u001b[38;5;28;01mimport\u001b[39;00m\u001b[38;5;250m \u001b[39m\u001b[34;01mnibabel\u001b[39;00m\n",
      "\u001b[36mFile \u001b[39m\u001b[32m/BRAIN/ckolling-phd/work/miniconda3/lib/python3.12/site-packages/cortex/database.py:668\u001b[39m, in \u001b[36mDatabase.get_paths\u001b[39m\u001b[34m(self, subject)\u001b[39m\n\u001b[32m    664\u001b[39m \u001b[38;5;250m\u001b[39m\u001b[33;03m\"\"\"Get a dictionary with a list of all candidate filenames for associated data, such as roi overlays, flatmap caches, and ctm caches.\u001b[39;00m\n\u001b[32m    665\u001b[39m \u001b[33;03m\"\"\"\u001b[39;00m\n\u001b[32m    666\u001b[39m surfpath = os.path.join(\u001b[38;5;28mself\u001b[39m.filestore, subject, \u001b[33m\"\u001b[39m\u001b[33msurfaces\u001b[39m\u001b[33m\"\u001b[39m)\n\u001b[32m--> \u001b[39m\u001b[32m668\u001b[39m \u001b[38;5;28;01mif\u001b[39;00m \u001b[38;5;28;43mself\u001b[39;49m\u001b[43m.\u001b[49m\u001b[43msubjects\u001b[49m\u001b[43m[\u001b[49m\u001b[43msubject\u001b[49m\u001b[43m]\u001b[49m._warning \u001b[38;5;129;01mis\u001b[39;00m \u001b[38;5;129;01mnot\u001b[39;00m \u001b[38;5;28;01mNone\u001b[39;00m:\n\u001b[32m    669\u001b[39m     warnings.warn(\u001b[38;5;28mself\u001b[39m.subjects[subject]._warning)\n\u001b[32m    671\u001b[39m surfs = \u001b[38;5;28mdict\u001b[39m()\n",
      "\u001b[31mKeyError\u001b[39m: '/BRAIN/neuroai_project/work/cajal_llm_project/data/fMRI_story_I'"
     ]
    }
   ],
   "source": [
    "# check whether these transforms work for the PLoS data\n",
    "mask = cortex.db.get_mask(surfaces[sub], transforms[sub], 'thin')\n",
    "print('num voxels in transform for I: {}'.format(np.sum(mask)))"
   ]
  },
  {
   "cell_type": "code",
   "execution_count": null,
   "id": "1adf9486",
   "metadata": {},
   "outputs": [],
   "source": [
    "mask = cortex.db.get_mask(surfaces[sub], new_transforms[sub], 'thin')\n",
    "print('num voxels in new_transform for I: {}'.format(np.sum(mask)))\n",
    "\n",
    "\n",
    "voxel_values_to_plot = np.load(\"/BRAIN/neuroai_project/work/cajal_llm_project/results/voxel_correlations.npy\")\n",
    "vol = cortex.Volume(voxel_values_to_plot, surfaces[sub], new_transforms[sub], vmin=0, vmax=0.6, cmap='viridis')\n",
    "cortex.webshow(vol)"
   ]
  }
 ],
 "metadata": {
  "kernelspec": {
   "display_name": "cajal",
   "language": "python",
   "name": "cajal"
  },
  "language_info": {
   "codemirror_mode": {
    "name": "ipython",
    "version": 3
   },
   "file_extension": ".py",
   "mimetype": "text/x-python",
   "name": "python",
   "nbconvert_exporter": "python",
   "pygments_lexer": "ipython3",
   "version": "3.12.10"
  }
 },
 "nbformat": 4,
 "nbformat_minor": 5
}
