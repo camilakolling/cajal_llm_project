{
 "cells": [
  {
   "cell_type": "code",
   "execution_count": 1,
   "id": "c597b4a6-2ef3-4c69-8e7d-3c5e8818e9df",
   "metadata": {},
   "outputs": [],
   "source": [
    "# cortex.webshow(cortex.Volume.random(\"S1\", \"fullhead\"))"
   ]
  },
  {
   "cell_type": "code",
   "execution_count": 2,
   "id": "91f406b6-c855-4268-8ab0-a5948c35514d",
   "metadata": {},
   "outputs": [],
   "source": [
    "import cortex\n",
    "import numpy as np\n",
    "import matplotlib.pyplot as plt"
   ]
  },
  {
   "cell_type": "code",
   "execution_count": 3,
   "id": "88b03a5a-dc98-48e8-a437-64a05b5a9d27",
   "metadata": {},
   "outputs": [
    {
     "data": {
      "text/plain": [
       "'/Users/camilakolling/mamba/envs/cajal/share/pycortex/db'"
      ]
     },
     "execution_count": 3,
     "metadata": {},
     "output_type": "execute_result"
    }
   ],
   "source": [
    "cortex.database.default_filestore"
   ]
  },
  {
   "cell_type": "code",
   "execution_count": 4,
   "id": "4234202d-f9e8-4e84-975b-bd7b66920aca",
   "metadata": {},
   "outputs": [],
   "source": [
    "surfaces = dict(\n",
    "# F = 'fMRI_story_F',\n",
    "# G = 'fMRI_story_G',\n",
    "# H = 'fMRI_story_H',\n",
    "I = 'fMRI_story_I',\n",
    "# J = 'fMRI_story_J',\n",
    "# K = 'fMRI_story_K',\n",
    "# L = 'fMRI_story_L',\n",
    "# M = 'fMRI_story_M',\n",
    "# N = 'fMRI_story_N'\n",
    ")\n",
    "\n",
    "transforms = dict(\n",
    "# F = 'F_ars',\n",
    "# G = 'G_ars',\n",
    "# H = 'H_ars',\n",
    "I = 'I_ars',\n",
    "# J = 'J_ars',\n",
    "# K = 'K_ars',\n",
    "# L = 'L_ars',\n",
    "# M = 'M_ars',\n",
    "# N = 'N_ars'\n",
    ")\n",
    "\n",
    "new_transforms = dict(\n",
    "# F = 'F_ars_auto2',\n",
    "# G = 'G_ars_auto2',\n",
    "# H = 'H_ars_auto2',\n",
    "I = 'I_ars_auto2',\n",
    "# J = 'J_ars_auto2',\n",
    "# K = 'K_ars_auto2',\n",
    "# L = 'L_ars_auto2',\n",
    "# M = 'M_ars_auto2',\n",
    "# N = 'N_ars_auto2'\n",
    ")\n",
    "\n",
    "sub = 'I'"
   ]
  },
  {
   "cell_type": "code",
   "execution_count": 5,
   "id": "d5d46a02-dd44-43d8-a5d8-294f54928076",
   "metadata": {},
   "outputs": [
    {
     "name": "stdout",
     "output_type": "stream",
     "text": [
      "num voxels in transform for I: 25281\n"
     ]
    }
   ],
   "source": [
    "# check whether these transforms work for the PLoS data\n",
    "mask = cortex.db.get_mask(surfaces[sub], transforms[sub], 'thin')\n",
    "print('num voxels in transform for I: {}'.format(np.sum(mask)))"
   ]
  },
  {
   "cell_type": "code",
   "execution_count": 9,
   "id": "6a32d135-a45b-453d-ada0-65bb62573c93",
   "metadata": {},
   "outputs": [
    {
     "name": "stdout",
     "output_type": "stream",
     "text": [
      "num voxels in new_transform for I: 25263\n",
      "Started server on port 13956\n"
     ]
    },
    {
     "data": {
      "text/plain": [
       "<JS: window.viewer>"
      ]
     },
     "execution_count": 9,
     "metadata": {},
     "output_type": "execute_result"
    },
    {
     "name": "stdout",
     "output_type": "stream",
     "text": [
      "Stopping server\n"
     ]
    }
   ],
   "source": [
    "mask = cortex.db.get_mask(surfaces[sub], new_transforms[sub], 'thin')\n",
    "print('num voxels in new_transform for I: {}'.format(np.sum(mask)))\n",
    "\n",
    "\n",
    "voxel_values_to_plot = np.load(\"/Users/camilakolling/work/git/cajal_llm_project/results/original_code/voxel_correlations.npy\")\n",
    "vol = cortex.Volume(voxel_values_to_plot, surfaces[sub], new_transforms[sub], vmin=0, vmax=0.6, cmap='viridis')\n",
    "cortex.webshow(vol)"
   ]
  },
  {
   "cell_type": "code",
   "execution_count": null,
   "id": "3995e719-db94-40f0-9cd2-7611998e57a4",
   "metadata": {},
   "outputs": [],
   "source": []
  }
 ],
 "metadata": {
  "kernelspec": {
   "display_name": "cajal",
   "language": "python",
   "name": "cajal"
  },
  "language_info": {
   "codemirror_mode": {
    "name": "ipython",
    "version": 3
   },
   "file_extension": ".py",
   "mimetype": "text/x-python",
   "name": "python",
   "nbconvert_exporter": "python",
   "pygments_lexer": "ipython3",
   "version": "3.10.18"
  }
 },
 "nbformat": 4,
 "nbformat_minor": 5
}
